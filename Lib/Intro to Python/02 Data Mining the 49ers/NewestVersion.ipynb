{
  "nbformat": 4,
  "nbformat_minor": 0,
  "metadata": {
    "colab": {
      "name": "NewestVersion.ipynb",
      "version": "0.3.2",
      "provenance": [],
      "private_outputs": true,
      "collapsed_sections": []
    },
    "kernelspec": {
      "name": "python3",
      "display_name": "Python 3"
    }
  },
  "cells": [
    {
      "metadata": {
        "id": "Ie_NQBGlhl7b",
        "colab_type": "text"
      },
      "cell_type": "markdown",
      "source": [
        "**Welcome to Data Visualization Tutorial.**\n",
        "\n",
        "**What is Data Visualization?**\n",
        "\n",
        "  You've been through this. In math class in middle school your teacher told you to plot the points on a graph. It must have looked something like this.\n",
        "  \n",
        "  ![alt text](http://chemlab.truman.edu/files/2015/06/image002.jpg)\n",
        "  \n",
        "  Data visualization refers to the graphical representation of information and data. \n",
        " \n",
        "** Why is it important?**\n",
        " \n",
        "  Data Visualization is one of the fundamental skills that a data scientist will need. It provides simple and natural ways to visualize large quantities of data. It can be used to help understand our data at a more fundamental level and see trends that we might not have considered before. \n",
        "  \n",
        "**  What we will do?**\n",
        "\n",
        "  Go over the basics of Pandas Dataframe and the Seaborn Library\n",
        "  \n",
        "  Seaborn allows us to easily create beautiful graphs with dataframes.\n",
        "  \n",
        "  ![alt text](https://www.quantinsti.com/wp-content/uploads/2017/07/seaburn-1.png)  \n",
        "  \n",
        "We will learn about different types of graphs and their particular use cases. Once we learn these graphs, we will practice pandas and seaborn with the data collected from NFL players. We will observe how each player's position relates to their total BMI (Body Mass Index)\n",
        "\n",
        "  \n",
        "**Resources**\n",
        "Tutorials on seaborn and data visualization:\n",
        "\n",
        "[https://www.kaggle.com/learn/data-visualisation](https://www.kaggle.com/learn/data-visualisation)\n",
        "\n",
        "[https://elitedatascience.com/python-seaborn-tutorial](https://elitedatascience.com/python-seaborn-tutorial)\n",
        "\n"
      ]
    },
    {
      "metadata": {
        "id": "cIBPrVebtEOz",
        "colab_type": "text"
      },
      "cell_type": "markdown",
      "source": [
        "# The Set Up"
      ]
    },
    {
      "metadata": {
        "id": "TYkCDdqyhqRK",
        "colab_type": "code",
        "colab": {}
      },
      "cell_type": "code",
      "source": [
        "#Install all dependencies for the project using pip\n",
        "!pip install ohmysportsfeedspy\n",
        "!pip install simplejson\n",
        "!pip install pathlib\n",
        "!pip uninstall seaborn -y\n",
        "!pip install seaborn\n"
      ],
      "execution_count": 0,
      "outputs": []
    },
    {
      "metadata": {
        "id": "RtAXx1w4hfWk",
        "colab_type": "code",
        "colab": {}
      },
      "cell_type": "code",
      "source": [
        "#Imports\n",
        "import seaborn as sns\n",
        "import pandas as pd\n",
        "import numpy as np \n",
        "import matplotlib.pyplot as plt\n",
        "\n",
        "#Style\n",
        "sns.set(style=\"darkgrid\")\n",
        "%matplotlib inline\n",
        "\n",
        "#Check that we have the proper Seaborn version\n",
        "print(\"THIS IS SNS.VERSION -> {}\".format(sns.__version__))"
      ],
      "execution_count": 0,
      "outputs": []
    },
    {
      "metadata": {
        "id": "BuMUXD_V78g5",
        "colab_type": "text"
      },
      "cell_type": "markdown",
      "source": [
        "\n",
        "\n",
        "IF sns.__version__ is 0.7.1 \n",
        "\n",
        "\n",
        "*   Restart the notebook in Runtime. (CMD + CTRL + m + .)\n",
        "*   Rerun the cell above"
      ]
    },
    {
      "metadata": {
        "id": "gUtYpYribV5u",
        "colab_type": "text"
      },
      "cell_type": "markdown",
      "source": [
        "# **Code from (API Data Collection Project):**\n"
      ]
    },
    {
      "metadata": {
        "id": "p6wLIfXwumHb",
        "colab_type": "text"
      },
      "cell_type": "markdown",
      "source": [
        "If you get errors try changing the API key to your mentors from yesterday"
      ]
    },
    {
      "metadata": {
        "id": "VToz-ld0scqe",
        "colab_type": "code",
        "colab": {}
      },
      "cell_type": "code",
      "source": [
        "# libraries\n",
        "from ohmysportsfeedspy import MySportsFeeds\n",
        "from pprint import pprint\n",
        "from pathlib import Path\n",
        "import json\n",
        "\n",
        "# functions\n",
        "def get_output_from_api(username, password):\n",
        "\t# where api json file is stored\n",
        "\tpath = 'results/roster_players-nfl-2017-2018-regular.json'\n",
        "\n",
        "\t# load json from results cache\n",
        "\tif Path(path).exists():\n",
        "\t\twith open(path, 'r') as f:\n",
        "\t\t\toutput = json.load(f)\n",
        "\t# make request to API if no cache\n",
        "\telse:\n",
        "\t\tmsf = MySportsFeeds(version=\"1.2\", verbose=True)\n",
        "\t\tmsf.authenticate(username, password)\n",
        "\t\toutput = msf.msf_get_data(league='nfl', season='2017-2018-regular', feed='roster_players', format='json')\n",
        "\n",
        "\treturn output\n",
        "\n",
        "def get_player(entry):\n",
        "\t# store each player as an object\n",
        "\tplayer = {}\n",
        "\n",
        "\t# add respective fields for players\n",
        "\ttry:\n",
        "\t\tplayer['name'] = entry['player']['FirstName'] + ' ' + entry['player']['LastName']\n",
        "\t\tplayer['position'] = entry['player']['Position']\n",
        "\t\tplayer['height'] = entry['player']['Height']\n",
        "\t\tplayer['weight'] = entry['player']['Weight']\n",
        "\n",
        "\t# in the case that information is missing, set field to 'N/A'\n",
        "\texcept KeyError as error:\n",
        "\t\tattribute = str(error).strip('\\'').lower()\n",
        "\t\tplayer[attribute] = 'N/A'\n",
        "\n",
        "\treturn player\n",
        "\n",
        "def get_team_players(output):\n",
        "\t# stores teams as keys and a list of player as values\n",
        "\tteams = {}\n",
        "\n",
        "\t# add every player from output\n",
        "\tfor entry in output['rosterplayers']['playerentry']:\n",
        "\t\t# get player information in an object\n",
        "\t\tplayer = get_player(entry)\n",
        "\n",
        "\t\t# initializes list once from each team\n",
        "\t\tif entry['team']['Name'] not in teams:\n",
        "\t\t\tteams[entry['team']['Name']] = []\n",
        "\n",
        "\t\t# adds player to the appropriate team list\n",
        "\t\tteams[entry['team']['Name']].append(player)\n",
        "\n",
        "\treturn teams\n",
        "\n",
        "def save_to_file(teams):\n",
        "\t# opens file with write permissions\n",
        "\tf = open('results.txt', 'w')\n",
        "\n",
        "\t# converts dictionary to string and saves in file\n",
        "\tf.write(str(teams))\n",
        "\n",
        "\t# closes file stream\n",
        "\tf.close()\n",
        "\n",
        "# commands\n",
        "username = '8663abc5-a99a-4f33-90c4-c1d697'\n",
        "password = 'Dk30RQHT'\n",
        "\n",
        "output = get_output_from_api(username, password)\n",
        "\n",
        "teams = get_team_players(output)\n",
        "\n",
        "pprint(teams)\n",
        "\n",
        "save_to_file(teams)\n"
      ],
      "execution_count": 0,
      "outputs": []
    },
    {
      "metadata": {
        "id": "H-UuPNHveq6p",
        "colab_type": "code",
        "colab": {}
      },
      "cell_type": "code",
      "source": [
        "#Lets see how many teams there are!\n",
        "print(\"There are {} teams\".format(len(teams)))"
      ],
      "execution_count": 0,
      "outputs": []
    },
    {
      "metadata": {
        "id": "Qb7PBgELuTKC",
        "colab_type": "text"
      },
      "cell_type": "markdown",
      "source": [
        "**NOTE:** We currently have our data saved in dictionaries"
      ]
    },
    {
      "metadata": {
        "id": "8kxIbDFudo37",
        "colab_type": "text"
      },
      "cell_type": "markdown",
      "source": [
        "# **Ex 1:** complete the BMI_calc function:\n",
        "\n",
        "Use the equation as a guide\n",
        "\n",
        "Use mass and height to calculate the BMI\n",
        "\n",
        "*   mass will be in pounds\n",
        "*   height will be in inches\n",
        "\n"
      ]
    },
    {
      "metadata": {
        "id": "wV1zqGmskWTW",
        "colab_type": "text"
      },
      "cell_type": "markdown",
      "source": [
        "The equation for body mass index:\n",
        "\n",
        "\n",
        "\n",
        "![alt text](https://i.imgur.com/7JRMwEf.png?1)"
      ]
    },
    {
      "metadata": {
        "id": "zD8ET4V6fW2G",
        "colab_type": "code",
        "colab": {}
      },
      "cell_type": "code",
      "source": [
        "#remember height is squared\n",
        "\n",
        "def BMI_calc(height, mass):\n",
        "  #your code here\n",
        "  \n",
        "  \n",
        "  \n",
        "  return (BMI)"
      ],
      "execution_count": 0,
      "outputs": []
    },
    {
      "metadata": {
        "id": "Xifz_BnYiyc6",
        "colab_type": "code",
        "colab": {}
      },
      "cell_type": "code",
      "source": [
        "test_height = 70\n",
        "test_weight = 150\n",
        "\n",
        "print(\"My equation says: %.2f\" % BMI_calc(test_height, test_weight))"
      ],
      "execution_count": 0,
      "outputs": []
    },
    {
      "metadata": {
        "id": "emzWOgMSjMrM",
        "colab_type": "text"
      },
      "cell_type": "markdown",
      "source": [
        "**Was your output correct?**\n",
        "\n",
        "The cell above should output 21.52\n",
        "\n",
        "If its not outputting the correct answer check with your neighbors and find the smart one :P"
      ]
    },
    {
      "metadata": {
        "id": "TG_RURQYn5wi",
        "colab_type": "text"
      },
      "cell_type": "markdown",
      "source": [
        "**What is your BMI?**\n",
        "\n",
        "Fill the variables below with your information to find your BMI."
      ]
    },
    {
      "metadata": {
        "id": "Uyf2RKksoJDO",
        "colab_type": "code",
        "colab": {}
      },
      "cell_type": "code",
      "source": [
        "my_height = #your height here in inches\n",
        "my_weight = #your weight in pounds\n",
        "\n",
        "print(\"My BMI is: %.2f\" % BMI_calc(my_height, my_weight))"
      ],
      "execution_count": 0,
      "outputs": []
    },
    {
      "metadata": {
        "id": "Fuu5N4A6tmzJ",
        "colab_type": "text"
      },
      "cell_type": "markdown",
      "source": [
        "# EX 2: Convert height in form: 5'11\" to inches"
      ]
    },
    {
      "metadata": {
        "id": "JwozhrdWdUe-",
        "colab_type": "text"
      },
      "cell_type": "markdown",
      "source": [
        "\n",
        "\n",
        "You may have noticed that in the data we used, the format of the height was in feet and inches, seperated by a '/' EX: '5\\'11\"'\n",
        "Write a method convertft_to_in(height) that takes in the unformated string and converts it into inches."
      ]
    },
    {
      "metadata": {
        "id": "4l7kfIKJwGai",
        "colab_type": "text"
      },
      "cell_type": "markdown",
      "source": [
        "The height data we are getting looks like this \n",
        "\n",
        "![](https://i.imgur.com/BMZNEvV.png)\n",
        "\n",
        "* We need height in inches to calculate our BMI\n",
        "* if you need help refer to the google document\n"
      ]
    },
    {
      "metadata": {
        "id": "Yqe2wuD6c_jZ",
        "colab_type": "code",
        "colab": {}
      },
      "cell_type": "code",
      "source": [
        "#height will come in format: '5\\'11\"'\n",
        "\n",
        "def convertft_to_in(height):\n",
        "    #your code here\n",
        "    \n",
        "\n",
        "    return inches"
      ],
      "execution_count": 0,
      "outputs": []
    },
    {
      "metadata": {
        "id": "34f_0dTepzqR",
        "colab_type": "text"
      },
      "cell_type": "markdown",
      "source": [
        "Now test your convertft_to_in(height) method"
      ]
    },
    {
      "metadata": {
        "id": "ag5lPcTBpvmO",
        "colab_type": "code",
        "colab": {}
      },
      "cell_type": "code",
      "source": [
        "test_heights = ['6\\'11\"','5\\'4\"','7\\'9\"','5\\'10\"','5\\'4\"']\n",
        "results = []\n",
        "for height in test_heights:\n",
        "  results.append(convertft_to_in(height))\n",
        "\n",
        "print(results)"
      ],
      "execution_count": 0,
      "outputs": []
    },
    {
      "metadata": {
        "id": "WqfgMQClt6da",
        "colab_type": "text"
      },
      "cell_type": "markdown",
      "source": [
        "Output should be [83, 64, 93, 70, 64]"
      ]
    },
    {
      "metadata": {
        "id": "P165Mi0Ci4WO",
        "colab_type": "text"
      },
      "cell_type": "markdown",
      "source": [
        "#Using Pandas to create a Dataframe from our API data\n"
      ]
    },
    {
      "metadata": {
        "id": "z3o5XXdU5Zuc",
        "colab_type": "text"
      },
      "cell_type": "markdown",
      "source": [
        "Data frames are a type of object ...\n",
        "Some pandas info and some dataframe info"
      ]
    },
    {
      "metadata": {
        "id": "SvzLJXyEc8XD",
        "colab_type": "code",
        "colab": {}
      },
      "cell_type": "code",
      "source": [
        "position = []\n",
        "BodyMassIndex = []\n",
        "PlayerName = []\n",
        "Height = []\n",
        "Weight = []\n",
        "Team = []\n",
        "# Iterate through list of Teams\n",
        "for tm in teams:\n",
        "  # Iterate through each teams players\n",
        "  for player in range(0, len(teams[tm])):\n",
        "    # \"player\" will be a dictionary with name, position, height, and weight\n",
        "    \n",
        "    # check if weight exists\n",
        "    # there was nine datapoints where a player's weight was not added.\n",
        "    # I will exclude them from the dataset.\n",
        "    # This a perfect example of the real world.\n",
        "    # Usually data we recieve is not perfect and will have missing values or outliers\n",
        "    if 'weight' in teams[tm][player]:\n",
        "      height = teams[tm][player]['height']\n",
        "      weight = int(teams[tm][player]['weight'])\n",
        "      \n",
        "      #We will use your methods for both of these, so make sure they are correct!\n",
        "      inches = convertft_to_in(height)\n",
        "      BMI = BMI_calc(inches, weight)\n",
        "      \n",
        "      #Lets create lists for easier conversion to Pandas\n",
        "      Team.append(tm)\n",
        "      Height.append(inches)\n",
        "      Weight.append(weight)\n",
        "      PlayerName.append(teams[tm][player]['name'])\n",
        "      BodyMassIndex.append(BMI)\n",
        "      position.append(teams[tm][player]['position'])\n",
        "\n",
        "      teams[tm][player]['BMI'] = BMI                                                          \n",
        "\n",
        "print(\"number of datapoints: {}\".format(len(position)))\n",
        "\n",
        "#create a pandas.DataFrame\n",
        "data = pd.DataFrame(\n",
        "    {'Team': Team,\n",
        "     'PlayerName': PlayerName,\n",
        "     'Position': position,\n",
        "     'Height': Height,\n",
        "     'Weight': Weight,\n",
        "     'BMI': BodyMassIndex\n",
        "    })\n",
        "\n",
        "#sort the dataframe to this order\n",
        "data = data[['Team', 'PlayerName', 'Position', 'Weight', 'Height', 'BMI',]]"
      ],
      "execution_count": 0,
      "outputs": []
    },
    {
      "metadata": {
        "id": "ICw-NyRq8Dog",
        "colab_type": "text"
      },
      "cell_type": "markdown",
      "source": [
        "#Try a few dataframe commands\n",
        "\n",
        "learn more: \n",
        "[https://www.youtube.com/watch?v=XDAnFZqJDvI&t=80s](https://www.youtube.com/watch?v=XDAnFZqJDvI&t=80s)"
      ]
    },
    {
      "metadata": {
        "id": "_C0e8sev95iS",
        "colab_type": "code",
        "colab": {}
      },
      "cell_type": "code",
      "source": [
        "#what our dataframe looks like\n",
        "\n",
        "#NOTE: Because we are in collabratory, we are able to refer to the dataframe \n",
        "#object as itself, and have it pretty print it's contents. \n",
        "#If we were in IDLE or commandline, we would need to use the print() method.\n",
        "\n",
        "data"
      ],
      "execution_count": 0,
      "outputs": []
    },
    {
      "metadata": {
        "id": "dLtjTJWdp0Eb",
        "colab_type": "code",
        "colab": {}
      },
      "cell_type": "code",
      "source": [
        "#the first few rows of our dataframe\n",
        "\n",
        "data.head(5)"
      ],
      "execution_count": 0,
      "outputs": []
    },
    {
      "metadata": {
        "id": "imUvvMJp6675",
        "colab_type": "code",
        "colab": {}
      },
      "cell_type": "code",
      "source": [
        "#the last few rows of our dataframe\n",
        "\n",
        "data.tail(5)"
      ],
      "execution_count": 0,
      "outputs": []
    },
    {
      "metadata": {
        "id": "e1KYzYUWv0Mj",
        "colab_type": "code",
        "colab": {}
      },
      "cell_type": "code",
      "source": [
        "#grab only the position column\n",
        "\n",
        "data['Position']"
      ],
      "execution_count": 0,
      "outputs": []
    },
    {
      "metadata": {
        "id": "u8dTOZME5cld",
        "colab_type": "code",
        "colab": {}
      },
      "cell_type": "code",
      "source": [
        "#count the number of occurences\n",
        "\n",
        "data['Position'].value_counts()"
      ],
      "execution_count": 0,
      "outputs": []
    },
    {
      "metadata": {
        "id": "Z1D8rYZN-mjc",
        "colab_type": "code",
        "colab": {}
      },
      "cell_type": "code",
      "source": [
        "#calculate mean of quantitative data\n",
        "data.mean()"
      ],
      "execution_count": 0,
      "outputs": []
    },
    {
      "metadata": {
        "id": "3PiNJAeg9mBB",
        "colab_type": "code",
        "colab": {}
      },
      "cell_type": "code",
      "source": [
        "#describe will give some stats on our data.  \n",
        "\n",
        "data.describe()"
      ],
      "execution_count": 0,
      "outputs": []
    },
    {
      "metadata": {
        "id": "TmcJtLAVmBq6",
        "colab_type": "text"
      },
      "cell_type": "markdown",
      "source": [
        "# **Seaborn Basics**\n",
        "\n",
        "[Seaborn Docs](https://seaborn.pydata.org/tutorial/relational.html)\n",
        "\n",
        "\n",
        "[Ultimate Seaborn Tutorial](https://elitedatascience.com/python-seaborn-tutorial)"
      ]
    },
    {
      "metadata": {
        "id": "dHbeNgeBo_FX",
        "colab_type": "text"
      },
      "cell_type": "markdown",
      "source": [
        "**To plot a scatter plot use sns.relplot(x, y, data)**\n",
        "\n",
        "*   x = column name of data you wish to use\n",
        "*   y = column name of data you wish to use\n",
        "*   data = name of dataframe\n",
        "*   height = height of your image\n",
        "*  aspect = how wide you want your image\n",
        "*   hue = color the data with this column\n",
        "\n"
      ]
    },
    {
      "metadata": {
        "id": "-A5MYVabpHAL",
        "colab_type": "code",
        "colab": {}
      },
      "cell_type": "code",
      "source": [
        "#to change shape you can add height and aspect\n",
        "#look for outliers\n",
        "\n",
        "sns.relplot(x=\"Position\", y=\"Weight\", data=data, height=7, aspect=1.5);"
      ],
      "execution_count": 0,
      "outputs": []
    },
    {
      "metadata": {
        "id": "i8gZUc1wJX8L",
        "colab_type": "text"
      },
      "cell_type": "markdown",
      "source": [
        "**different variation of scatter plot that prevents overlapping of dots**\n",
        "\n",
        "\n",
        "sns.catplot()"
      ]
    },
    {
      "metadata": {
        "id": "Lbl6svFFJWnu",
        "colab_type": "code",
        "colab": {}
      },
      "cell_type": "code",
      "source": [
        "# hue adds color based off the named column from dataframe\n",
        "\n",
        "sns.catplot(x=\"Position\", y=\"Weight\", hue=\"Team\", data=data, height=7, aspect=1.5);"
      ],
      "execution_count": 0,
      "outputs": []
    },
    {
      "metadata": {
        "id": "n-TXx2J7rGwN",
        "colab_type": "text"
      },
      "cell_type": "markdown",
      "source": [
        "**To plot a simple bar graph use sns.barplot(x, y, data)**"
      ]
    },
    {
      "metadata": {
        "id": "NC38Nn0l-dML",
        "colab_type": "code",
        "colab": {}
      },
      "cell_type": "code",
      "source": [
        "fig , ax = plt.subplots(figsize=(9,4.5))\n",
        "\n",
        "sns.barplot(x='Position', y='Weight', data=data, ax = ax)"
      ],
      "execution_count": 0,
      "outputs": []
    },
    {
      "metadata": {
        "id": "6E4FuWFgtV6Q",
        "colab_type": "text"
      },
      "cell_type": "markdown",
      "source": [
        "#**Ex. 3**\n",
        "\n",
        "** Plot Position x BMI on a scatter plot**\n",
        "\n",
        "It should look something like this.\n",
        "\n",
        "\n",
        "![](https://i.imgur.com/67HTg8sl.png)"
      ]
    },
    {
      "metadata": {
        "id": "PudrelPdEMV0",
        "colab_type": "code",
        "colab": {}
      },
      "cell_type": "code",
      "source": [
        "#Use either sns.relplot or sns.catplot to plot Position vs BMI\n",
        "#write code here\n",
        "\n"
      ],
      "execution_count": 0,
      "outputs": []
    },
    {
      "metadata": {
        "id": "Rjo2y84r6r2Z",
        "colab_type": "text"
      },
      "cell_type": "markdown",
      "source": [
        "#Look at the graph.\n",
        "\n",
        "*   Wait a minute why is one of the RB's (Running Backs) BMI so low?\n",
        "*   Lets take a closer \n",
        "*   Run the cell below"
      ]
    },
    {
      "metadata": {
        "id": "l-kRYBX6GidJ",
        "colab_type": "code",
        "colab": {}
      },
      "cell_type": "code",
      "source": [
        "print(data.loc[data['BMI'] < 10])\n",
        "\n",
        "\n",
        "print(\"\\nFound an outlier!!! BMI of 5.2 (O.o)\", \"Oh that makes sense, he only weighs 40lbs... WAIT WHAT???\")\n",
        "print(\"We will deal with Dan Vitale later\")"
      ],
      "execution_count": 0,
      "outputs": []
    },
    {
      "metadata": {
        "id": "sYTsJzKT-eha",
        "colab_type": "text"
      },
      "cell_type": "markdown",
      "source": [
        "# Subsetting Data with Pandas Dataframes"
      ]
    },
    {
      "metadata": {
        "id": "Ody7MbtF-jXu",
        "colab_type": "text"
      },
      "cell_type": "markdown",
      "source": [
        "Now that we have a basic understanding of how to create dataframes with Pandas and create pretty graphics with Seaborn, lets work on subsetting our data.\n",
        "Subsetting is the act of selecting a specific set out of the larger data set. For example, if I only wanted to see the player info for the position of Quarter Back, I could subset my data such that the newly returned dataframe only contains the information of Quarter Backs. Another example might be subsetting the data by a range of player's height.\n",
        "\n",
        "[Subsetting with Pandas](https://medium.com/dunder-data/selecting-subsets-of-data-in-pandas-6fcd0170be9c)"
      ]
    },
    {
      "metadata": {
        "id": "gP8dugVkyNl3",
        "colab_type": "text"
      },
      "cell_type": "markdown",
      "source": [
        "The basic commands to subset data are: data[], data.iloc(), and data.loc()"
      ]
    },
    {
      "metadata": {
        "id": "ZI8NjVcCxhKW",
        "colab_type": "code",
        "colab": {}
      },
      "cell_type": "code",
      "source": [
        "#Grab only the specified columns\n",
        "\n",
        "data[['Team', 'PlayerName', 'Position']]"
      ],
      "execution_count": 0,
      "outputs": []
    },
    {
      "metadata": {
        "id": "NMuzexCn5sNm",
        "colab_type": "code",
        "colab": {}
      },
      "cell_type": "code",
      "source": [
        "#Grab only the rows with Team Name as Cardinals\n",
        "\n",
        "cardinals_data = data.loc[data['Team'] == 'Cardinals']\n",
        "cardinals_data"
      ],
      "execution_count": 0,
      "outputs": []
    },
    {
      "metadata": {
        "id": "pkppDJv2DRXU",
        "colab_type": "code",
        "colab": {}
      },
      "cell_type": "code",
      "source": [
        "#grab all rows with quarterback as position\n",
        "quarterback_data = data.loc[data['Position'] == 'QB']\n",
        "quarterback_data"
      ],
      "execution_count": 0,
      "outputs": []
    },
    {
      "metadata": {
        "id": "Pq1RwBjg6bt_",
        "colab_type": "code",
        "colab": {}
      },
      "cell_type": "code",
      "source": [
        "#grab a whole row\n",
        "\n",
        "data.iloc[3]"
      ],
      "execution_count": 0,
      "outputs": []
    },
    {
      "metadata": {
        "id": "19RXBcpPhfxs",
        "colab_type": "code",
        "colab": {}
      },
      "cell_type": "code",
      "source": [
        "#grab specific row and column with .at(row # , column name)\n",
        "\n",
        "data.at[10, 'Height']"
      ],
      "execution_count": 0,
      "outputs": []
    },
    {
      "metadata": {
        "id": "AY4Cvk2jPxVI",
        "colab_type": "text"
      },
      "cell_type": "markdown",
      "source": [
        "# Plotting a distribution plot\n",
        "\n",
        "*  use sns.distplot()\n",
        "\n"
      ]
    },
    {
      "metadata": {
        "id": "j-5gbfcVDoyz",
        "colab_type": "code",
        "colab": {}
      },
      "cell_type": "code",
      "source": [
        "sns.distplot(quarterback_data['Weight'])"
      ],
      "execution_count": 0,
      "outputs": []
    },
    {
      "metadata": {
        "id": "FTwZvpryDdXe",
        "colab_type": "text"
      },
      "cell_type": "markdown",
      "source": [
        "**Ex 4: create a sns.distplot() of Quarterback BMI**\n",
        "Bonus:  Try to [colorize](https://seaborn.pydata.org/generated/seaborn.distplot.html) it\n",
        "      "
      ]
    },
    {
      "metadata": {
        "id": "_d7wPcFPNEHX",
        "colab_type": "code",
        "colab": {}
      },
      "cell_type": "code",
      "source": [
        "#your code here"
      ],
      "execution_count": 0,
      "outputs": []
    },
    {
      "metadata": {
        "id": "x8xC4uRpL62Y",
        "colab_type": "text"
      },
      "cell_type": "markdown",
      "source": [
        "**Ex 5: create a bar plot of 49ers Team BMI.**"
      ]
    },
    {
      "metadata": {
        "id": "Ro1Wt_3yXHXk",
        "colab_type": "code",
        "colab": {}
      },
      "cell_type": "code",
      "source": [
        "#your code here"
      ],
      "execution_count": 0,
      "outputs": []
    },
    {
      "metadata": {
        "id": "iRbz2JIubGZf",
        "colab_type": "text"
      },
      "cell_type": "markdown",
      "source": [
        "# Removing The Outlier\n",
        "\n",
        "\n",
        "*   Now that we roughly know how to subset dataframes\n",
        "*   We need to try to find Dan Vitale and change his weight to the correct one\n",
        "*   Google Dan Vitale's and find his real weight\n",
        "*   Refer to google doc for help\n",
        "\n"
      ]
    },
    {
      "metadata": {
        "id": "yI7XefDJa5up",
        "colab_type": "text"
      },
      "cell_type": "markdown",
      "source": [
        " **Ex 6: Find the real weight of Dan Vitale and fix the data!**\n"
      ]
    },
    {
      "metadata": {
        "id": "VahdOM1WF2eC",
        "colab_type": "code",
        "colab": {}
      },
      "cell_type": "code",
      "source": [
        "#The player's info\n",
        "data.loc[data['PlayerName'] == 'Dan Vitale']"
      ],
      "execution_count": 0,
      "outputs": []
    },
    {
      "metadata": {
        "id": "9999mnXSgXTb",
        "colab_type": "code",
        "colab": {}
      },
      "cell_type": "code",
      "source": [
        "# your code here"
      ],
      "execution_count": 0,
      "outputs": []
    },
    {
      "metadata": {
        "id": "LYi8phMfxKVy",
        "colab_type": "text"
      },
      "cell_type": "markdown",
      "source": [
        "#Violin Plots & Box Plots\n",
        "Although scatter plots are nice. I think we can use different types of graphs that can give us more information while being extremely pretty.\n",
        "These plots are great for showing distribution across mutiple categories at the same time.\n",
        "\n",
        "Lets use [Violin Plots](https://matplotlib.org/examples/statistics/customized_violin_demo.html\n",
        ") & [Box Plots](http://www.physics.csbsju.edu/stats/box2.html)\n",
        "\n",
        "\n",
        "![alt text](https://i.imgur.com/WFyufIX.png?1)\n",
        "![alt text](https://datavizcatalogue.com/methods/images/anatomy/box_plot.png)"
      ]
    },
    {
      "metadata": {
        "id": "E8-mn9ASm7ak",
        "colab_type": "text"
      },
      "cell_type": "markdown",
      "source": [
        "**To plot a violin plot use sns.violinplot()**"
      ]
    },
    {
      "metadata": {
        "id": "X3sUXwRJxI7k",
        "colab_type": "code",
        "colab": {}
      },
      "cell_type": "code",
      "source": [
        "fig, ax = plt.subplots(figsize=(10,6))\n",
        "sns.violinplot(ax = ax, x=\"Position\", y=\"BMI\",\n",
        "                data=data)\n"
      ],
      "execution_count": 0,
      "outputs": []
    },
    {
      "metadata": {
        "id": "SW09KN3FmxSO",
        "colab_type": "text"
      },
      "cell_type": "markdown",
      "source": [
        "**To plot a violin plot use sns.boxplot()**"
      ]
    },
    {
      "metadata": {
        "id": "4pwIFXfDb3av",
        "colab_type": "code",
        "colab": {}
      },
      "cell_type": "code",
      "source": [
        "fig, ax = plt.subplots(figsize=(10,6))\n",
        "sns.boxplot(ax = ax, x=\"Position\", y=\"BMI\",\n",
        "                data=data)"
      ],
      "execution_count": 0,
      "outputs": []
    },
    {
      "metadata": {
        "id": "gkYru30B2-6C",
        "colab_type": "text"
      },
      "cell_type": "markdown",
      "source": [
        "#Observe the data\n",
        "\n",
        "*  How high is there BMI?\n",
        "*  Does the BMI span a large range?\n",
        "*  Is BMI concentrated in one spot\n",
        "*  What position is this? [Wiki for football abreviations](https://en.wikipedia.org/wiki/American_football_positions)\n",
        "\n",
        "\n",
        "---\n",
        "\n",
        "\n",
        "**TRENDS**\n",
        "*   Players who need quickness will have lower BMI's\n",
        "*   Players who need strength will have higher BMI's\n",
        "\n",
        "---\n",
        "\n",
        "\n",
        "\n"
      ]
    },
    {
      "metadata": {
        "id": "ul4Ux8E09xsD",
        "colab_type": "text"
      },
      "cell_type": "markdown",
      "source": [
        "# Roles\n",
        "\n",
        "![alt text](https://upload.wikimedia.org/wikipedia/commons/thumb/2/25/American_Football_Positions.svg/604px-American_Football_Positions.svg.png)"
      ]
    },
    {
      "metadata": {
        "id": "PXuwnF8193V_",
        "colab_type": "text"
      },
      "cell_type": "markdown",
      "source": [
        "**DB (Defensive Back)**\n",
        "\n",
        "     Defensive backs are the smaller, quicker, and faster defensive players who frequently serve as a defense’s backstop – the last, best hope at stopping an offensive player who’s gotten loose \n",
        "\n",
        "**LB (Line Backer)**\n",
        "      \n",
        "     Linebackers play behind the defensive line and perform various duties depending on the situation, including rushing the passer, covering receivers, and defending against the run.\n",
        "        \n",
        "**LS (Long Snapper)**\n",
        "\n",
        "     A specialized center who snaps the ball directly to the holder or punter. This player is usually distinct from the regular center, as the ball often has to be snapped much farther back on kicking plays.\n",
        "    \n",
        "    \n",
        "**DE (Defensive end)**\n",
        "\n",
        "     Their function is to attack the passer or stop offensive runs to the outer edges of the line of scrimmage (most often referred to as \"containment\"). The faster of the two is usually placed on the right side of the defensive line (quarterback's left) because that is a right-handed quarterback's blind side.\n",
        "    \n",
        "    \n",
        "**DT (Defensive tackle)**\n",
        "\n",
        "      Sometimes called a defensive guard, defensive tackles play at the center of the defensive line. Their function is to rush the passer (if they can get past the offensive linemen blocking them), and stop running plays directed at the middle of the line of scrimmage. \n",
        "\n",
        "**QB (Quarterback)**\n",
        "\n",
        "      The quarterback is the player who receives the ball from the center to start the play. The most important position on the offensive side, the quarterback is responsible for receiving the play from the coaches on the sideline and communicating the play to the other offensive players in the huddle.\n",
        "    \n",
        "**OT (Offensive tackle)**\n",
        "\n",
        "      Two tackles play outside of the guards. Their role is primarily to block on both running and passing plays. The area from one tackle to the other is an area of \"close line play\" in which blocks from behind, which are prohibited elsewhere on the field, are allowed. For a right-handed quarterback, the left tackle is charged with protecting the quarterback from being hit from behind (known as his \"blind side\")\n",
        "      \n",
        "      \n",
        "**SS (Line Backer)**\n",
        "\n",
        "      The safeties are the last line of defense (farthest from the line of scrimmage) and usually help the corners with deep-pass coverage. The strong safety (SS) is usually the larger and stronger of the two, providing extra protection against run plays by standing closer to the line of scrimmage, usually on the strong (tight end) side of the field.\n",
        "    \n",
        "**WR (Wide Reciever)**\n",
        "\n",
        "     The wide receivers are pass-catching specialists. Their main job is to run pass routes and get open for a pass, although they are occasionally called on to block.\n",
        "\n",
        "**RB (Running backs)**\n",
        "\n",
        "      Running backs are players who line up behind the offensive line, who are in position to receive the ball from the quarterback, and execute a rushing play. \n",
        "    \n",
        "**FB (Feature Back)**\n",
        "    \n",
        "      A running back will sometimes be called a \"feature back\" if he is the team's starting running back.\n",
        "    \n",
        "**CB (CornerBack)**\n",
        "        \n",
        "     Typically two players primarily cover the wide receivers. Cornerbacks attempt to prevent successful quarterback passes by either swatting the airborne ball away from the receiver or by catching the pass themselves. \n",
        "\n",
        "**C (Center)**\n",
        " \n",
        "      The center is the player who begins the play from scrimmage by snapping the ball to the quarterback. Like all offensive linemen, the center has the responsibility to block defensive players. \n",
        "   \n",
        "**P (Punter)**\n",
        "      \n",
        "      The punter, upon receiving the snap, drops the ball and kicks it from the air.\n",
        "\n",
        "**G (Gunner)**\n",
        "\n",
        "      A player on kickoffs and punts who specializes in running down the field very quickly in an attempt to tackle the returner.\n",
        "    \n",
        "    \n",
        "**OLB (Outside Linebacker)**\n",
        "\n",
        "     Linebackers play behind the defensive line and perform various duties depending on the situation, including rushing the passer, covering receivers, and defending against the run.\n",
        "  \n",
        "\n",
        "**ILB (Inside Linebacker)**\n",
        "\n",
        "     Same as Middle Linebacker\n",
        "    \n",
        "**TE (Tight End)**\n",
        "\n",
        "     Tight ends play on either side of, and directly next to, the tackles. Tight ends are considered hybrid players, something between a wide receiver and an offensive lineman. Because they play next to the other offensive linemen, they are frequently called on to block, especially on running plays. However, because they are eligible receivers, they may also catch passes.\n",
        "\n",
        "\n",
        "**K (Kicker)**\n",
        "  \n",
        "    Also called the \"placekicker\", he handles kickoffs, extra points, and field goal attempts. All three situations require the kicker to kick the ball off of the ground, either from the hands of a \"holder\" or off of a \"tee\"\n",
        "\n",
        "**T (Tackle)**\n",
        "\n",
        "    Same as Offensive Tackle\n",
        "\n",
        "**FS (Free Safety)**\n",
        "     \n",
        "     The free safety (FS) is usually the smaller and faster of the two safeties, and is usually the deepest player on the defense, providing help on long pass plays.\n",
        "\n",
        "**MLB (Middle Linebacker)**\n",
        "  \n",
        "      Middle linebackers must be capable of stopping running backs who make it past the defensive line, covering pass plays over the middle, and rushing the quarterback on blitz plays.\n",
        "\n",
        "**NT (Nose Tackle)**\n",
        "\n",
        "    The most interior defensive tackle who sometimes lines up directly across from the ball (and therefore is almost nose-to-nose with the offense's center) is often called a nose tackle, alternately nose guard or middle guard.\n",
        "    \n",
        "\n",
        "More info here: https://en.wikipedia.org/wiki/American_football_positions"
      ]
    },
    {
      "metadata": {
        "id": "iARe1hs7oQ6K",
        "colab_type": "text"
      },
      "cell_type": "markdown",
      "source": [
        "#Test your Knowledge\n",
        "\n",
        "#Ex 9. Create a BoxPlot of the 49ers team\n",
        "\n",
        "\n",
        "*   Use Height as Y axis\n",
        "*   Use Position as X axis\n",
        "\n"
      ]
    },
    {
      "metadata": {
        "id": "-bYYlAGKsADj",
        "colab_type": "code",
        "colab": {}
      },
      "cell_type": "code",
      "source": [
        "#your code below\n"
      ],
      "execution_count": 0,
      "outputs": []
    },
    {
      "metadata": {
        "id": "S0vDnaEXsAoH",
        "colab_type": "text"
      },
      "cell_type": "markdown",
      "source": [
        "#Ex 10. Create a ViolinPlot of all Wide Recievers\n",
        "  \n",
        "\n",
        "*   Use BMI for Y axis\n",
        "*   Team name for X axis\n",
        "\n"
      ]
    },
    {
      "metadata": {
        "id": "v-i17YdHtAJD",
        "colab_type": "code",
        "colab": {}
      },
      "cell_type": "code",
      "source": [
        "#your code below\n"
      ],
      "execution_count": 0,
      "outputs": []
    },
    {
      "metadata": {
        "id": "eXgcCPi_OCvt",
        "colab_type": "text"
      },
      "cell_type": "markdown",
      "source": [
        "# **BONUS**\n",
        "\n",
        "What oher fun [graphs](https://seaborn.pydata.org/examples/index.html) can you make?\n",
        "\n",
        "Find cool graphs to plot\n",
        "\n",
        "Some cool graphs I've seen.\n",
        "*   [Hexbin Plot](https://seaborn.pydata.org/examples/hexbin_marginals.html)\n",
        "*   [Swarmplot](https://seaborn.pydata.org/examples/scatterplot_categorical.html)\n",
        "*   [3D Plots -> import needed](https://python-graph-gallery.com/370-3d-scatterplot/)\n",
        "\n",
        "You can also set your own [style](https://medium.com/@andykashyap/top-5-tricks-to-make-plots-look-better-9f6e687c1e08)"
      ]
    },
    {
      "metadata": {
        "id": "CKVixHhTONtx",
        "colab_type": "code",
        "colab": {}
      },
      "cell_type": "code",
      "source": [
        "#your code below\n"
      ],
      "execution_count": 0,
      "outputs": []
    }
  ]
}