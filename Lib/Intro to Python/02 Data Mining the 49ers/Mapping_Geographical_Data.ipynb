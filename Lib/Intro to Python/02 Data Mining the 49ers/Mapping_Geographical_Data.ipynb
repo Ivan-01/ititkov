{
  "nbformat": 4,
  "nbformat_minor": 0,
  "metadata": {
    "colab": {
      "name": "Mapping Geographical Data.ipynb",
      "version": "0.3.2",
      "provenance": []
    },
    "kernelspec": {
      "name": "python3",
      "display_name": "Python 3"
    }
  },
  "cells": [
    {
      "metadata": {
        "id": "SgUJ3yW8f8b_",
        "colab_type": "code",
        "colab": {}
      },
      "cell_type": "code",
      "source": [
        "players_uni_dict = {\n",
        "  'Wes Saxton': 'South Alabama',\n",
        "  'JP Flynn': 'Montana State',\n",
        "  'Will Sutton': 'Arizona State',\n",
        "  'Cedric Thornton': 'Southern Arkansas',\n",
        "  'Mike Person': 'Montana State',\n",
        "  'Coleman Shelton': 'Washington',\n",
        "  'Jeff Wilson': 'North Texas',\n",
        "  'Corey Griffin': 'Georgia Tech',\n",
        "  'Najee Toran': 'UCLA',\n",
        "  'Alan Knott': 'South Carolina',\n",
        "  'Jack Heneghan': 'Dartmouth',\n",
        "  'Emmanuel Moseley': 'Tennessee',\n",
        "  'Tarvarus McFadden': 'Florida State',\n",
        "  'Niles Scott': 'Frostburg State',\n",
        "  'Terrell Williams': 'Houston',\n",
        "  'Ross Dwelley': 'San Diego',\n",
        "  'Steven Dunbar Jr.': 'Houston',\n",
        "  'Richie James Jr.': 'Middle Tennessee State',\n",
        "  'Jullian Taylor': 'Temple',\n",
        "  'Marcell Harris': 'Florida',\n",
        "  'D.J. Reed Jr.': 'Kansas State',\n",
        "  'Tarvarius Moore': 'Southern Miss',\n",
        "  'Fred Warner': 'BYU',\n",
        "  'Dante Pettis': 'Washington',\n",
        "  'Mike McGlinchey': 'Notre Dame',\n",
        "  'Korey Toomer': 'Idaho',\n",
        "  'Jonathan Cooper': 'North Carolina',\n",
        "  'Jeff Locke': 'UCLA',\n",
        "  'Jeremiah Attaochu': 'Georgia Tech',\n",
        "  'Weston Richburg': 'Colorado State',\n",
        "  'Jerick McKinnon': 'Georgia Southern',\n",
        "  'Richard Sherman': 'Stanford',\n",
        "  'Malcolm Johnson': 'Mississippi State',\n",
        "  'Elijah Lee': 'Kansas State',\n",
        "  'Mark Nzeocha': 'Wyoming',\n",
        "  'Bradley Pinion': 'Clemson',\n",
        "  'Tyvis Powell': 'Ohio State',\n",
        "  'Aldrick Robinson': 'Southern Methodist',\n",
        "  'Joe Staley': 'Central Michigan',\n",
        "  'Malcolm Smith': 'USC',\n",
        "  'Andrew Lauderdale': 'New Hampshire',\n",
        "  'Ahkello Witherspoon': 'Colorado',\n",
        "  'Joe Williams': 'Utah',\n",
        "  \"K'Waun Williams\": 'Pittsburgh',\n",
        "  'Darrell Williams Jr.': 'Western Kentucky',\n",
        "  'Cole Wick': 'Incarnate Word (Tex.)',\n",
        "  'Dekoda Watson': 'Florida State',\n",
        "  'Max McCaffrey': 'Duke',\n",
        "  'Jimmie Ward': 'Northern Illinois',\n",
        "  'Laken Tomlinson': 'Duke',\n",
        "  'Solomon Thomas': 'Stanford',\n",
        "  'Trent Taylor': 'Louisiana Tech',\n",
        "  'Jeremy McNichols': 'Boise State',\n",
        "  'Pita Taumoepenu': 'Utah',\n",
        "  'Greg Mabin': 'Iowa',\n",
        "  'Jaquiski Tartt': 'Samford',\n",
        "  'Erik Magnuson': 'Michigan',\n",
        "  'Cassius Marsh': 'UCLA',\n",
        "  'Chanceller James': 'Boise State',\n",
        "  'Kyle Nelson': 'New Mexico State',\n",
        "  'Pace Murphy': 'Northwestern State-Louisiana',\n",
        "  'Joshua Garnett': 'Stanford',\n",
        "  'Earl Mitchell': 'Arizona',\n",
        "  'Cole Hikutini': 'Louisville',\n",
        "  'Eli Harold': 'Virginia',\n",
        "  'Raheem Mostert': 'Purdue',\n",
        "  'Robbie Gould': 'Penn State',\n",
        "  'Nick Mullens': 'Southern Mississippi',\n",
        "  'Marquise Goodwin': 'Texas',\n",
        "  'Garry Gilliam': 'Penn State',\n",
        "  'George Kittle': 'Iowa',\n",
        "  'Reuben Foster': 'Alabama',\n",
        "  'Antone Exum Jr.': 'Virginia Tech',\n",
        "  'Sheldon Day': 'Notre Dame',\n",
        "  'Brock Coyle': 'Montana',\n",
        "  'Adrian Colbert': 'Miami (Fla.)',\n",
        "  'Garrett Celek': 'Michigan State',\n",
        "  'Aaron Burbridge': 'Michigan State',\n",
        "  'DeForest Buckner': 'Oregon',\n",
        "  'Kendrick Bourne': 'Eastern Washington',\n",
        "  'Matt Breida': 'Georgia Southern',\n",
        "  'Victor Bolden Jr.': 'Oregon State',\n",
        "  'Ronald Blair III': 'Appalachian State',\n",
        "  'C.J. Beathard': 'Iowa',\n",
        "  'Arik Armstead': 'Oregon',\n",
        "  'D.J. Jones': 'Mississippi',\n",
        "  'Pierre Garon': 'Mount Union',\n",
        "  'Jimmy Garoppolo': 'Eastern Illinois',\n",
        "  'Kyle Juszczyk': 'Harvard'\n",
        " }\n"
      ],
      "execution_count": 0,
      "outputs": []
    },
    {
      "metadata": {
        "id": "HcOxpyEp3xXe",
        "colab_type": "text"
      },
      "cell_type": "markdown",
      "source": [
        "\n",
        "**42 Hack High School data visualisation with Plotly in Python**\n",
        "\n",
        "By: Nataly and Jeson\n",
        "\n",
        "---\n",
        "\n",
        "Congratulation on scraping data successfully. \n",
        "\n",
        "Imagine that you are a data scientist working for the 49ers sports team. Aand you’re having Monday blues at work wishing that it's was Friday night already. Suddenly, you hear your boss knocking on your office door. \n",
        "\n",
        "**“Knock Knock”**\n",
        "\n",
        "**“You open the door”**\n",
        "\n",
        "Jeson (CEO): Hey, I have a meeting tomorrow with one of the biggest clients that we have. It’s gonna be worth millions of dollars. I will be doing a presentation and I need the data of all our player’s colleges by 5 pm.\n",
        "\n",
        "You: Yes Jeson. I will get it done as soon as possible. \n",
        "\n",
        "You now have a dictionary. The good news is that you have the data of the colleges of the players from the web scraping that you just did. But, unfortunately, it is unpresentable. \n",
        "\n",
        "![alt text](https://i.imgur.com/Qec00h0.png)\n",
        "\n",
        "It looks unreadable and literally no one in their right mind would be interested in reading it. Not even you. You want to make it nice and beautiful so that your boss can close the deal easily and hopefully he gives you a pay raise (because you’re secretly broke). The data has to be visually clear for anyone viewing it. \n",
        "\n",
        "Tic - Toc -Tic -Toc time is running out and you need to start working. \n",
        "\n",
        "But before that….let’s discuss some topics.\n",
        "\n",
        "**What is data visualisation?**\n",
        "\n",
        "Data visualization is the presentation of data in a way that It enables decision makers to see analytics presented visually, so they can grasp difficult concepts or identify new patterns.\n",
        "\n",
        "**Why is data visualisation useful? **\n",
        "\n",
        "One of the most important beneﬁts of visualization is that it allows us visual access to huge amounts of data in easily visuals. Well- designed visuals data graphics are usually the simplest and at the same time, the most powerful.\n",
        "\n",
        "**So how can we best present our data for the task given?**\n",
        "\n",
        "**TASK:** Visualize all 49er’s players colleges. \n",
        "\n",
        "\n",
        "To best help your CEO Jeson to succeed in his presentation, one of the best ways to do it is by placing the player’spayer’s colleges on an interactive map. The end result will look something like this:  picture.\n",
        "\n",
        "![alt text](https://i.imgur.com/aGCYM2E.png)\n",
        "\n"
      ]
    },
    {
      "metadata": {
        "id": "dmQHxqa_A5MA",
        "colab_type": "text"
      },
      "cell_type": "markdown",
      "source": [
        "# **Step 0: Set up:**\n",
        "\n",
        "Before we start doing anything, let’s install some dependencies that are necessary for to work on this tutorial. \n",
        "\n",
        "Let’s go ahead and install by typing these separately in the terminal:\n",
        " \n",
        "> *Pip  --user install geopy*\n",
        "\n",
        "> *Pip --user install pandas*\n",
        "\n",
        "> *Pip --user install nominatim*\n",
        "\n",
        "> *Pip --user install plotly*\n",
        "\n",
        "And remember to download our dictionary\n",
        "\n",
        "# **Step 1: Get the latitude and the longitude of their colleges**\n",
        "\n",
        "Now you have a clean set of data of what you want,. wWhich is a dictionary of player’s names and the colleges that they went togo to.\n",
        "\n",
        "WOOOHOOO!!!!\n",
        "\n",
        "![alt text](https://i.imgur.com/sGT679c.png)\n",
        "\n",
        "The next step is to get the latitude and the longitude of the colleges so that we can plot them on a map.\n",
        "\n",
        "First we will conver the data-sets into a dictionary.\n",
        "\n",
        "Once it is in a dictionary format we have to import some super-powers known as libraries.\n",
        "\n",
        "Read more about geopy and Nominatim\n",
        "\n",
        "![alt text](https://i.imgur.com/0H54Gzv.png)\n",
        "\n",
        "Basically these libraries give us access to the Google Maps API so we can locate the longitude and latitude of the colleges.\n",
        "\n",
        "However there are several problems with our datasets.\n",
        "\n",
        "For example:\n",
        "> a. Georgia Tech should be Georgia Tech University\n",
        "\n",
        "> b. Virginia should be University of Virginia\n",
        "\n",
        "With imcomplete college names, it would be hard for the computer to solve this problem, which is the longitude and latitude of the colleges.\n",
        "\n",
        "**The Goal:** Write a method called get_location with the prototype below that places either “University of” in front of the college’s name or “University” at the end of the name and return the coordinates (latitude and longitude) of any colleges from the dictionary.\n",
        "\n",
        "![alt text](https://i.imgur.com/05O7wTk.png)\n",
        "\n",
        "**The name of the college has to be exactly the same as the one in the dictionary**\n",
        "\n",
        "Now try replacing all the \"return\" statements with \"print\" statements and call the function with your favorite college. You shouldl be able to see the longitude and the latitude of the college you inputted. \n",
        "\n",
        "\n",
        "![alt text](https://i.imgur.com/ucq6qLG.png)\n",
        "![alt text](https://i.imgur.com/JFwVmRw.png)\n",
        "\n"
      ]
    },
    {
      "metadata": {
        "id": "t2kp5R9lIZnS",
        "colab_type": "code",
        "outputId": "210c5165-7cdc-4447-c72a-778938150240",
        "colab": {
          "base_uri": "https://localhost:8080/",
          "height": 224
        }
      },
      "cell_type": "code",
      "source": [
        "#!pip install geopy\n",
        "#!pip install pandas\n",
        "#!pip install nominatim\n",
        "#!pip install plotly"
      ],
      "execution_count": 0,
      "outputs": [
        {
          "output_type": "stream",
          "text": [
            "Collecting geopy\n",
            "\u001b[?25l  Downloading https://files.pythonhosted.org/packages/38/55/4f4d10b966d302707f17d7a55a4ea6ece2c574cff1be9bf3debb65ff74b9/geopy-1.16.0-py2.py3-none-any.whl (90kB)\n",
            "\u001b[K    100% |████████████████████████████████| 92kB 3.9MB/s \n",
            "\u001b[?25hCollecting geographiclib<2,>=1.49 (from geopy)\n",
            "  Downloading https://files.pythonhosted.org/packages/5b/ac/4f348828091490d77899bc74e92238e2b55c59392f21948f296e94e50e2b/geographiclib-1.49.tar.gz\n",
            "Building wheels for collected packages: geographiclib\n",
            "  Running setup.py bdist_wheel for geographiclib ... \u001b[?25l-\b \b\\\b \bdone\n",
            "\u001b[?25h  Stored in directory: /content/.cache/pip/wheels/99/45/d1/14954797e2a976083182c2e7da9b4e924509e59b6e5c661061\n",
            "Successfully built geographiclib\n",
            "Installing collected packages: geographiclib, geopy\n",
            "Successfully installed geographiclib-1.49 geopy-1.16.0\n"
          ],
          "name": "stdout"
        }
      ]
    },
    {
      "metadata": {
        "id": "xXZh0_HzWFAs",
        "colab_type": "code",
        "outputId": "1c741f55-3dfb-4cf9-8557-3123285e61ad",
        "colab": {
          "base_uri": "https://localhost:8080/",
          "height": 54
        }
      },
      "cell_type": "code",
      "source": [
        "from geopy.geocoders import Nominatim\n",
        "\n",
        "def get_location(uni):\n",
        "  a = \"University of\"\n",
        "  b = \"University\"\n",
        "  geolocator = Nominatim(user_agent=\"my_map\")\n",
        "  location = geolocator.geocode(uni)\n",
        "  location2 = geolocator.geocode(a + uni)\n",
        "  location3 = geolocator.geocode(uni + b)\n",
        "  \n",
        "  if location is not None:\n",
        "    return(location)\n",
        "  elif location2 is not None:\n",
        "    return(location2)\n",
        "  else:\n",
        "    return(location3)\n",
        "  \n",
        "  \n",
        "lat_long_dict = {}\n",
        "\n",
        "#loop the dictionary\n",
        "for player , university in players_uni_dict.items():\n",
        "    try:\n",
        "    \t#Run the get_location function that we wrote\n",
        "    \t#and save it in location\n",
        "        location = get_location(university)\n",
        "        #declaring another empty dictionary\n",
        "        lat_long = {}\n",
        "        #Save the latitude in the lat_long dictionary as latitude\n",
        "        lat_long[\"latitude\"] = location.latitude\n",
        "        #Save the longitude into lat_long dictionary as longitude\n",
        "        lat_long[\"longitude\"] = location.longitude\n",
        "        #Save lat_long into lat_long_dict\n",
        "        lat_long_dict[player] = lat_long\n",
        "    except Exception as e:\n",
        "        continue\n",
        "\n",
        "print(lat_long_dict)\n",
        "\n",
        "  "
      ],
      "execution_count": 0,
      "outputs": [
        {
          "output_type": "stream",
          "text": [
            "{'Wes Saxton': {'latitude': 43.0736518, 'longitude': -78.3356849}, 'JP Flynn': {'latitude': 47.3752671, 'longitude': -109.6387579}, 'Will Sutton': {'latitude': 33.44956665, 'longitude': -112.092854829137}, 'Cedric Thornton': {'latitude': 34.4051, 'longitude': -91.1684518}, 'Mike Person': {'latitude': 47.3752671, 'longitude': -109.6387579}, 'Coleman Shelton': {'latitude': 38.8949549, 'longitude': -77.0366456}, 'Jeff Wilson': {'latitude': 33.9266015, 'longitude': -94.8524009}, 'Corey Griffin': {'latitude': 33.776033, 'longitude': -84.3988408600158}, 'Najee Toran': {'latitude': 34.05880065, 'longitude': -118.447524450076}, 'Alan Knott': {'latitude': 33.6874388, 'longitude': -80.4363743}, 'Jack Heneghan': {'latitude': 50.3514839, 'longitude': -3.583844}, 'Emmanuel Moseley': {'latitude': 35.7730076, 'longitude': -86.2820081}, 'Tarvarus McFadden': {'latitude': 27.7567667, 'longitude': -81.4639835}, 'Niles Scott': {'latitude': 39.6581425, 'longitude': -78.928357}, 'Terrell Williams': {'latitude': 29.7589382, 'longitude': -95.3676974}, 'Ross Dwelley': {'latitude': 32.7174209, 'longitude': -117.1627714}, 'Steven Dunbar Jr.': {'latitude': 29.7589382, 'longitude': -95.3676974}, 'Richie James Jr.': {'latitude': 35.84860085, 'longitude': -86.360900433754}, 'Jullian Taylor': {'latitude': 31.098207, 'longitude': -97.3427847}, 'Marcell Harris': {'latitude': 27.7567667, 'longitude': -81.4639835}, 'D.J. Reed Jr.': {'latitude': 38.27312, 'longitude': -98.5821872}, 'Tarvarius Moore': {'latitude': 31.3285925, 'longitude': -89.3364771774641}, 'Fred Warner': {'latitude': 40.2551075, 'longitude': -111.649656484253}, 'Dante Pettis': {'latitude': 38.8949549, 'longitude': -77.0366456}, 'Mike McGlinchey': {'latitude': 41.70456775, 'longitude': -86.2382202601727}, 'Korey Toomer': {'latitude': 43.6447642, 'longitude': -114.0154071}, 'Jonathan Cooper': {'latitude': 35.6729639, 'longitude': -79.0392919}, 'Jeff Locke': {'latitude': 34.05880065, 'longitude': -118.447524450076}, 'Jeremiah Attaochu': {'latitude': 33.776033, 'longitude': -84.3988408600158}, 'Weston Richburg': {'latitude': 39.2693102, 'longitude': -108.8388283}, 'Jerick McKinnon': {'latitude': 32.42143805, 'longitude': -81.7845052864662}, 'Richard Sherman': {'latitude': 37.4248398, 'longitude': -122.1677058}, 'Malcolm Johnson': {'latitude': 32.9715645, 'longitude': -89.7348497}, 'Elijah Lee': {'latitude': 38.27312, 'longitude': -98.5821872}, 'Mark Nzeocha': {'latitude': 43.1700264, 'longitude': -107.5685348}, 'Bradley Pinion': {'latitude': 34.6850749, 'longitude': -82.8364111}, 'Tyvis Powell': {'latitude': 41.8924345, 'longitude': -87.6277656}, 'Aldrick Robinson': {'latitude': 31.3700018, 'longitude': -109.6478534}, 'Joe Staley': {'latitude': 43.6211955, 'longitude': -84.6824346}, 'Malcolm Smith': {'latitude': 46.4063747, 'longitude': 8.9041135}, 'Andrew Lauderdale': {'latitude': 43.4849133, 'longitude': -71.6553992}, 'Ahkello Witherspoon': {'latitude': 38.7251776, 'longitude': -105.6077167}, 'Joe Williams': {'latitude': 39.4225192, 'longitude': -111.7143584}, \"K'Waun Williams\": {'latitude': 40.4416941, 'longitude': -79.9900861}, 'Darrell Williams Jr.': {'latitude': 38.0529974, 'longitude': -84.5027598}, 'Cole Wick': {'latitude': 26.2843399, 'longitude': -98.2403533}, 'Dekoda Watson': {'latitude': 27.7567667, 'longitude': -81.4639835}, 'Max McCaffrey': {'latitude': 38.9989596, 'longitude': -83.2335181}, 'Jimmie Ward': {'latitude': 41.8137876, 'longitude': -88.0662396}, 'Laken Tomlinson': {'latitude': 38.9989596, 'longitude': -83.2335181}, 'Solomon Thomas': {'latitude': 37.4248398, 'longitude': -122.1677058}, 'Trent Taylor': {'latitude': 32.5068168, 'longitude': -92.6484827}, 'Jeremy McNichols': {'latitude': 43.61656, 'longitude': -116.200835}, 'Pita Taumoepenu': {'latitude': 39.4225192, 'longitude': -111.7143584}, 'Greg Mabin': {'latitude': 41.9216734, 'longitude': -93.3122705}, 'Jaquiski Tartt': {'latitude': 36.0742367, 'longitude': -89.914254}, 'Erik Magnuson': {'latitude': 43.6211955, 'longitude': -84.6824346}, 'Cassius Marsh': {'latitude': 34.05880065, 'longitude': -118.447524450076}, 'Chanceller James': {'latitude': 43.61656, 'longitude': -116.200835}, 'Kyle Nelson': {'latitude': 34.5708167, 'longitude': -105.993007}, 'Pace Murphy': {'latitude': 54.4142986, 'longitude': 21.698618}, 'Joshua Garnett': {'latitude': 37.4248398, 'longitude': -122.1677058}, 'Earl Mitchell': {'latitude': 34.395342, 'longitude': -111.7632755}, 'Cole Hikutini': {'latitude': 38.2542376, 'longitude': -85.759407}, 'Eli Harold': {'latitude': 37.1232245, 'longitude': -78.4927721}, 'Raheem Mostert': {'latitude': 42.637268, 'longitude': -83.216131}, 'Robbie Gould': {'latitude': 39.8905901, 'longitude': -75.1712076497024}, 'Nick Mullens': {'latitude': 31.3285925, 'longitude': -89.3364771774641}, 'Marquise Goodwin': {'latitude': 31.8160381, 'longitude': -99.5120986}, 'Garry Gilliam': {'latitude': 39.8905901, 'longitude': -75.1712076497024}, 'George Kittle': {'latitude': 41.9216734, 'longitude': -93.3122705}, 'Reuben Foster': {'latitude': 33.2588817, 'longitude': -86.8295337}, 'Antone Exum Jr.': {'latitude': 37.21872455, 'longitude': -80.4254251869494}, 'Sheldon Day': {'latitude': 41.70456775, 'longitude': -86.2382202601727}, 'Brock Coyle': {'latitude': 47.3752671, 'longitude': -109.6387579}, 'Adrian Colbert': {'latitude': 25.683721, 'longitude': -80.158603}, 'Garrett Celek': {'latitude': 43.6211955, 'longitude': -84.6824346}, 'Aaron Burbridge': {'latitude': 43.6211955, 'longitude': -84.6824346}, 'DeForest Buckner': {'latitude': 43.9792797, 'longitude': -120.737257}, 'Kendrick Bourne': {'latitude': 12.4625, 'longitude': 124.643056}, 'Matt Breida': {'latitude': 32.42143805, 'longitude': -81.7845052864662}, 'Victor Bolden Jr.': {'latitude': 43.9792797, 'longitude': -120.737257}, 'Ronald Blair III': {'latitude': 33.8848208, 'longitude': -86.4019275}, 'C.J. Beathard': {'latitude': 41.9216734, 'longitude': -93.3122705}, 'Arik Armstead': {'latitude': 43.9792797, 'longitude': -120.737257}, 'D.J. Jones': {'latitude': 32.9715645, 'longitude': -89.7348497}, 'Pierre Garon': {'latitude': 40.3845217, 'longitude': -77.8822199}, 'Jimmy Garoppolo': {'latitude': 39.5733818, 'longitude': -89.9867748}, 'Kyle Juszczyk': {'latitude': 42.36782045, 'longitude': -71.1266665287448}}\n"
          ],
          "name": "stdout"
        }
      ]
    },
    {
      "metadata": {
        "id": "X2-_EYayVXem",
        "colab_type": "text"
      },
      "cell_type": "markdown",
      "source": [
        "Awesome, now we just have to do the same thing but for the players' colleges.\n",
        "\n",
        "To do this, we can loop through the dictionary and get a nested dictioanry of the player's names as well as the longitude and latitude of their respective colleges.\n",
        "\n",
        "\n",
        "\n",
        "By the end of this you should be able to get a nasted dictionary of player's names and the latitude and longitude coordinates of their colleges in a dictionary format. It kinda looks like this: \n",
        "\n",
        "![alt text](https://i.imgur.com/VuKOkz4.png)\n",
        "\n",
        "We can importa a library called \"pprint\" to make it look prettier. Change your print(lat_long_dict) to the one below.\n",
        "\n",
        "![alt text](https://i.imgur.com/XQsaHu0.png)\n",
        "\n",
        "Now run it again to see the result."
      ]
    },
    {
      "metadata": {
        "id": "6TeeWNmnVdLt",
        "colab_type": "code",
        "colab": {}
      },
      "cell_type": "code",
      "source": [
        ""
      ],
      "execution_count": 0,
      "outputs": []
    },
    {
      "metadata": {
        "id": "466y892vEzPf",
        "colab_type": "text"
      },
      "cell_type": "markdown",
      "source": [
        "# Step 2: Convert the dictionary into a CSV file\n",
        "\n",
        "\n",
        "We now need to convert our newly created nested dictionary back to a csv (comma separated values)  file. And to do that, first you have to import csv.\n",
        "\n",
        ">*import csv*\n",
        "\n",
        "Now, loop through the nested dictionary and write each keys value piars into a csv file. We will name the csv file as \"players_file.csv\".\n",
        "\n",
        "The code looks osmething like this:\n",
        "\n",
        "![alt text](https://i.imgur.com/3lahliJ.png)\n",
        "\n"
      ]
    },
    {
      "metadata": {
        "id": "-Ww4c_eHI7H5",
        "colab_type": "code",
        "colab": {}
      },
      "cell_type": "code",
      "source": [
        "import csv\n",
        "import plotly.plotly as py"
      ],
      "execution_count": 0,
      "outputs": []
    },
    {
      "metadata": {
        "id": "1X68DmVuIjcS",
        "colab_type": "text"
      },
      "cell_type": "markdown",
      "source": [
        "# Step 3: Display an interactive map with the csv file\n",
        "\n",
        "We are almost done!!\n",
        "\n",
        "Try opening the file, \"player_file.csv\" and look at the date we were able to produce.\n",
        "\n",
        "![alttest](https://i.imgur.com/MS8sv9B.jpg)\n",
        "\n",
        "Now let's create the map!.\n",
        "\n",
        "We are going to be using Plotly to display the data on an interactive map. \n",
        "\n",
        "First, lets go ahead and create an account on Plotly. Once the account is created, edit he created credentials using a text editor of your choice located in: .plotly/.crendentials.\n",
        "\n",
        "Secondly, add your username and api_key. You can find your api_key under settings > API KEYS.\n",
        "\n",
        "![alt text](https://i.imgur.com/ZQMFaXV.png)\n",
        "![alt text](https://i.imgur.com/xpnEpwJ.png)\n",
        "\n",
        "Now, once everything is set up, you can start writing the code to display the map with our data. \n",
        "\n",
        "First we have to import the library.\n",
        "\n",
        "> *Import plotly.plotly as py*\n",
        "\n",
        "We also need to import a library called pandas.\n",
        "\n",
        "> *import pandas as pd*\n",
        "\n",
        "Lastly, all we have to do is write the necessary code to costumize our map. And plot it. \n",
        "\n",
        "![alttext](https://i.imgur.com/Mq3r15c.png)\n",
        "\n",
        "If everything goes right, you shoudl ahve the map automatically prompt out with the data.\n",
        "\n",
        "![alt text](https://i.imgur.com/up1P4T3.jpg)\n",
        "\n",
        "**BONUS**: Validate their hometown and map their hometown with different colour of marker.\n",
        "\n",
        "**Second Bonus**: Explore the map library and create something with data scraped from elsewhere on the internet."
      ]
    },
    {
      "metadata": {
        "id": "UmKNeDmSCMCL",
        "colab_type": "code",
        "colab": {}
      },
      "cell_type": "code",
      "source": [
        ""
      ],
      "execution_count": 0,
      "outputs": []
    },
    {
      "metadata": {
        "id": "SX49xTEOIff5",
        "colab_type": "code",
        "colab": {}
      },
      "cell_type": "code",
      "source": [
        ""
      ],
      "execution_count": 0,
      "outputs": []
    }
  ]
}